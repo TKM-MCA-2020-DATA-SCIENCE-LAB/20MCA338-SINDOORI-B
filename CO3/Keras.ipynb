{
  "nbformat": 4,
  "nbformat_minor": 0,
  "metadata": {
    "colab": {
      "name": "Keras.ipynb",
      "provenance": [],
      "collapsed_sections": []
    },
    "kernelspec": {
      "name": "python3",
      "display_name": "Python 3"
    },
    "language_info": {
      "name": "python"
    }
  },
  "cells": [
    {
      "cell_type": "code",
      "execution_count": null,
      "metadata": {
        "id": "XNYbWfrOmfGq"
      },
      "outputs": [],
      "source": [
        "import keras\n",
        "from keras.datasets import mnist\n",
        "from keras.models import Sequential\n",
        "from keras.layers import Dense\n",
        "from tensorflow.keras.optimizers import SGD\n",
        "from matplotlib import pyplot as plt"
      ]
    },
    {
      "cell_type": "code",
      "source": [
        "(x_train,y_train),(x_valid,y_valid)=mnist.load_data()"
      ],
      "metadata": {
        "id": "Qid58YVanWTr",
        "colab": {
          "base_uri": "https://localhost:8080/"
        },
        "outputId": "4282de13-804f-43e5-937d-c8be07544dbf"
      },
      "execution_count": null,
      "outputs": [
        {
          "output_type": "stream",
          "name": "stdout",
          "text": [
            "Downloading data from https://storage.googleapis.com/tensorflow/tf-keras-datasets/mnist.npz\n",
            "11493376/11490434 [==============================] - 0s 0us/step\n",
            "11501568/11490434 [==============================] - 0s 0us/step\n"
          ]
        }
      ]
    },
    {
      "cell_type": "code",
      "source": [
        "plt.figure(figsize=(5,5))\n",
        "for k in range(20):\n",
        "  plt.subplot(10,2,k+1)\n",
        "  plt.imshow(x_train[k],cmap='Greys')\n",
        "  plt.axis('off')\n",
        "plt.show()"
      ],
      "metadata": {
        "colab": {
          "base_uri": "https://localhost:8080/",
          "height": 303
        },
        "id": "V5KGMWc8n4gy",
        "outputId": "fd42da54-b2d2-4108-a6c2-f62850f9debc"
      },
      "execution_count": null,
      "outputs": [
        {
          "output_type": "display_data",
          "data": {
            "image/png": "[encoded data removed]",
            "text/plain": [
              "<Figure size 360x360 with 20 Axes>"
            ]
          },
          "metadata": {
            "needs_background": "light"
          }
        }
      ]
    },
    {
      "cell_type": "code",
      "source": [
        "plt.imshow(x_valid[0],cmap='Greys')"
      ],
      "metadata": {
        "colab": {
          "base_uri": "https://localhost:8080/",
          "height": 282
        },
        "id": "tHfPFPiYp0RS",
        "outputId": "6a802210-0940-4773-c69f-4c104bdc9105"
      },
      "execution_count": null,
      "outputs": [
        {
          "output_type": "execute_result",
          "data": {
            "text/plain": [
              "<matplotlib.image.AxesImage at 0x7fe79247a290>"
            ]
          },
          "metadata": {},
          "execution_count": 5
        },
        {
          "output_type": "display_data",
          "data": {
            "image/png": "[encoded data removed]",
            "text/plain": [
              "<Figure size 432x288 with 1 Axes>"
            ]
          },
          "metadata": {
            "needs_background": "light"
          }
        }
      ]
    },
    {
      "cell_type": "code",
      "source": [
        "x_train[0]"
      ],
      "metadata": {
        "colab": {
          "base_uri": "https://localhost:8080/"
        },
        "id": "Q90RFRvNp9nZ",
        "outputId": "2db8b30e-bd03-45b7-e558-2c8dee1990f8"
      },
      "execution_count": null,
      "outputs": [
        {
          "output_type": "execute_result",
          "data": {
            "text/plain": [
              "array([[  0,   0,   0,   0,   0,   0,   0,   0,   0,   0,   0,   0,   0,\n",
              "          0,   0,   0,   0,   0,   0,   0,   0,   0,   0,   0,   0,   0,\n",
              "          0,   0],\n",
              "       [  0,   0,   0,   0,   0,   0,   0,   0,   0,   0,   0,   0,   0,\n",
              "          0,   0,   0,   0,   0,   0,   0,   0,   0,   0,   0,   0,   0,\n",
              "          0,   0],\n",
              "       [  0,   0,   0,   0,   0,   0,   0,   0,   0,   0,   0,   0,   0,\n",
              "          0,   0,   0,   0,   0,   0,   0,   0,   0,   0,   0,   0,   0,\n",
              "          0,   0],\n",
              "       [  0,   0,   0,   0,   0,   0,   0,   0,   0,   0,   0,   0,   0,\n",
              "          0,   0,   0,   0,   0,   0,   0,   0,   0,   0,   0,   0,   0,\n",
              "          0,   0],\n",
              "       [  0,   0,   0,   0,   0,   0,   0,   0,   0,   0,   0,   0,   0,\n",
              "          0,   0,   0,   0,   0,   0,   0,   0,   0,   0,   0,   0,   0,\n",
              "          0,   0],\n",
              "       [  0,   0,   0,   0,   0,   0,   0,   0,   0,   0,   0,   0,   3,\n",
              "         18,  18,  18, 126, 136, 175,  26, 166, 255, 247, 127,   0,   0,\n",
              "          0,   0],\n",
              "       [  0,   0,   0,   0,   0,   0,   0,   0,  30,  36,  94, 154, 170,\n",
              "        253, 253, 253, 253, 253, 225, 172, 253, 242, 195,  64,   0,   0,\n",
              "          0,   0],\n",
              "       [  0,   0,   0,   0,   0,   0,   0,  49, 238, 253, 253, 253, 253,\n",
              "        253, 253, 253, 253, 251,  93,  82,  82,  56,  39,   0,   0,   0,\n",
              "          0,   0],\n",
              "       [  0,   0,   0,   0,   0,   0,   0,  18, 219, 253, 253, 253, 253,\n",
              "        253, 198, 182, 247, 241,   0,   0,   0,   0,   0,   0,   0,   0,\n",
              "          0,   0],\n",
              "       [  0,   0,   0,   0,   0,   0,   0,   0,  80, 156, 107, 253, 253,\n",
              "        205,  11,   0,  43, 154,   0,   0,   0,   0,   0,   0,   0,   0,\n",
              "          0,   0],\n",
              "       [  0,   0,   0,   0,   0,   0,   0,   0,   0,  14,   1, 154, 253,\n",
              "         90,   0,   0,   0,   0,   0,   0,   0,   0,   0,   0,   0,   0,\n",
              "          0,   0],\n",
              "       [  0,   0,   0,   0,   0,   0,   0,   0,   0,   0,   0, 139, 253,\n",
              "        190,   2,   0,   0,   0,   0,   0,   0,   0,   0,   0,   0,   0,\n",
              "          0,   0],\n",
              "       [  0,   0,   0,   0,   0,   0,   0,   0,   0,   0,   0,  11, 190,\n",
              "        253,  70,   0,   0,   0,   0,   0,   0,   0,   0,   0,   0,   0,\n",
              "          0,   0],\n",
              "       [  0,   0,   0,   0,   0,   0,   0,   0,   0,   0,   0,   0,  35,\n",
              "        241, 225, 160, 108,   1,   0,   0,   0,   0,   0,   0,   0,   0,\n",
              "          0,   0],\n",
              "       [  0,   0,   0,   0,   0,   0,   0,   0,   0,   0,   0,   0,   0,\n",
              "         81, 240, 253, 253, 119,  25,   0,   0,   0,   0,   0,   0,   0,\n",
              "          0,   0],\n",
              "       [  0,   0,   0,   0,   0,   0,   0,   0,   0,   0,   0,   0,   0,\n",
              "          0,  45, 186, 253, 253, 150,  27,   0,   0,   0,   0,   0,   0,\n",
              "          0,   0],\n",
              "       [  0,   0,   0,   0,   0,   0,   0,   0,   0,   0,   0,   0,   0,\n",
              "          0,   0,  16,  93, 252, 253, 187,   0,   0,   0,   0,   0,   0,\n",
              "          0,   0],\n",
              "       [  0,   0,   0,   0,   0,   0,   0,   0,   0,   0,   0,   0,   0,\n",
              "          0,   0,   0,   0, 249, 253, 249,  64,   0,   0,   0,   0,   0,\n",
              "          0,   0],\n",
              "       [  0,   0,   0,   0,   0,   0,   0,   0,   0,   0,   0,   0,   0,\n",
              "          0,  46, 130, 183, 253, 253, 207,   2,   0,   0,   0,   0,   0,\n",
              "          0,   0],\n",
              "       [  0,   0,   0,   0,   0,   0,   0,   0,   0,   0,   0,   0,  39,\n",
              "        148, 229, 253, 253, 253, 250, 182,   0,   0,   0,   0,   0,   0,\n",
              "          0,   0],\n",
              "       [  0,   0,   0,   0,   0,   0,   0,   0,   0,   0,  24, 114, 221,\n",
              "        253, 253, 253, 253, 201,  78,   0,   0,   0,   0,   0,   0,   0,\n",
              "          0,   0],\n",
              "       [  0,   0,   0,   0,   0,   0,   0,   0,  23,  66, 213, 253, 253,\n",
              "        253, 253, 198,  81,   2,   0,   0,   0,   0,   0,   0,   0,   0,\n",
              "          0,   0],\n",
              "       [  0,   0,   0,   0,   0,   0,  18, 171, 219, 253, 253, 253, 253,\n",
              "        195,  80,   9,   0,   0,   0,   0,   0,   0,   0,   0,   0,   0,\n",
              "          0,   0],\n",
              "       [  0,   0,   0,   0,  55, 172, 226, 253, 253, 253, 253, 244, 133,\n",
              "         11,   0,   0,   0,   0,   0,   0,   0,   0,   0,   0,   0,   0,\n",
              "          0,   0],\n",
              "       [  0,   0,   0,   0, 136, 253, 253, 253, 212, 135, 132,  16,   0,\n",
              "          0,   0,   0,   0,   0,   0,   0,   0,   0,   0,   0,   0,   0,\n",
              "          0,   0],\n",
              "       [  0,   0,   0,   0,   0,   0,   0,   0,   0,   0,   0,   0,   0,\n",
              "          0,   0,   0,   0,   0,   0,   0,   0,   0,   0,   0,   0,   0,\n",
              "          0,   0],\n",
              "       [  0,   0,   0,   0,   0,   0,   0,   0,   0,   0,   0,   0,   0,\n",
              "          0,   0,   0,   0,   0,   0,   0,   0,   0,   0,   0,   0,   0,\n",
              "          0,   0],\n",
              "       [  0,   0,   0,   0,   0,   0,   0,   0,   0,   0,   0,   0,   0,\n",
              "          0,   0,   0,   0,   0,   0,   0,   0,   0,   0,   0,   0,   0,\n",
              "          0,   0]], dtype=uint8)"
            ]
          },
          "metadata": {},
          "execution_count": 6
        }
      ]
    },
    {
      "cell_type": "code",
      "source": [
        "x_valid[0]"
      ],
      "metadata": {
        "colab": {
          "base_uri": "https://localhost:8080/"
        },
        "id": "VSnOWEkqqGYZ",
        "outputId": "5ac8517f-f13a-4ef9-dd3b-4681aadc7533"
      },
      "execution_count": null,
      "outputs": [
        {
          "output_type": "execute_result",
          "data": {
            "text/plain": [
              "array([[  0,   0,   0,   0,   0,   0,   0,   0,   0,   0,   0,   0,   0,\n",
              "          0,   0,   0,   0,   0,   0,   0,   0,   0,   0,   0,   0,   0,\n",
              "          0,   0],\n",
              "       [  0,   0,   0,   0,   0,   0,   0,   0,   0,   0,   0,   0,   0,\n",
              "          0,   0,   0,   0,   0,   0,   0,   0,   0,   0,   0,   0,   0,\n",
              "          0,   0],\n",
              "       [  0,   0,   0,   0,   0,   0,   0,   0,   0,   0,   0,   0,   0,\n",
              "          0,   0,   0,   0,   0,   0,   0,   0,   0,   0,   0,   0,   0,\n",
              "          0,   0],\n",
              "       [  0,   0,   0,   0,   0,   0,   0,   0,   0,   0,   0,   0,   0,\n",
              "          0,   0,   0,   0,   0,   0,   0,   0,   0,   0,   0,   0,   0,\n",
              "          0,   0],\n",
              "       [  0,   0,   0,   0,   0,   0,   0,   0,   0,   0,   0,   0,   0,\n",
              "          0,   0,   0,   0,   0,   0,   0,   0,   0,   0,   0,   0,   0,\n",
              "          0,   0],\n",
              "       [  0,   0,   0,   0,   0,   0,   0,   0,   0,   0,   0,   0,   0,\n",
              "          0,   0,   0,   0,   0,   0,   0,   0,   0,   0,   0,   0,   0,\n",
              "          0,   0],\n",
              "       [  0,   0,   0,   0,   0,   0,   0,   0,   0,   0,   0,   0,   0,\n",
              "          0,   0,   0,   0,   0,   0,   0,   0,   0,   0,   0,   0,   0,\n",
              "          0,   0],\n",
              "       [  0,   0,   0,   0,   0,   0,  84, 185, 159, 151,  60,  36,   0,\n",
              "          0,   0,   0,   0,   0,   0,   0,   0,   0,   0,   0,   0,   0,\n",
              "          0,   0],\n",
              "       [  0,   0,   0,   0,   0,   0, 222, 254, 254, 254, 254, 241, 198,\n",
              "        198, 198, 198, 198, 198, 198, 198, 170,  52,   0,   0,   0,   0,\n",
              "          0,   0],\n",
              "       [  0,   0,   0,   0,   0,   0,  67, 114,  72, 114, 163, 227, 254,\n",
              "        225, 254, 254, 254, 250, 229, 254, 254, 140,   0,   0,   0,   0,\n",
              "          0,   0],\n",
              "       [  0,   0,   0,   0,   0,   0,   0,   0,   0,   0,   0,  17,  66,\n",
              "         14,  67,  67,  67,  59,  21, 236, 254, 106,   0,   0,   0,   0,\n",
              "          0,   0],\n",
              "       [  0,   0,   0,   0,   0,   0,   0,   0,   0,   0,   0,   0,   0,\n",
              "          0,   0,   0,   0,   0,  83, 253, 209,  18,   0,   0,   0,   0,\n",
              "          0,   0],\n",
              "       [  0,   0,   0,   0,   0,   0,   0,   0,   0,   0,   0,   0,   0,\n",
              "          0,   0,   0,   0,  22, 233, 255,  83,   0,   0,   0,   0,   0,\n",
              "          0,   0],\n",
              "       [  0,   0,   0,   0,   0,   0,   0,   0,   0,   0,   0,   0,   0,\n",
              "          0,   0,   0,   0, 129, 254, 238,  44,   0,   0,   0,   0,   0,\n",
              "          0,   0],\n",
              "       [  0,   0,   0,   0,   0,   0,   0,   0,   0,   0,   0,   0,   0,\n",
              "          0,   0,   0,  59, 249, 254,  62,   0,   0,   0,   0,   0,   0,\n",
              "          0,   0],\n",
              "       [  0,   0,   0,   0,   0,   0,   0,   0,   0,   0,   0,   0,   0,\n",
              "          0,   0,   0, 133, 254, 187,   5,   0,   0,   0,   0,   0,   0,\n",
              "          0,   0],\n",
              "       [  0,   0,   0,   0,   0,   0,   0,   0,   0,   0,   0,   0,   0,\n",
              "          0,   0,   9, 205, 248,  58,   0,   0,   0,   0,   0,   0,   0,\n",
              "          0,   0],\n",
              "       [  0,   0,   0,   0,   0,   0,   0,   0,   0,   0,   0,   0,   0,\n",
              "          0,   0, 126, 254, 182,   0,   0,   0,   0,   0,   0,   0,   0,\n",
              "          0,   0],\n",
              "       [  0,   0,   0,   0,   0,   0,   0,   0,   0,   0,   0,   0,   0,\n",
              "          0,  75, 251, 240,  57,   0,   0,   0,   0,   0,   0,   0,   0,\n",
              "          0,   0],\n",
              "       [  0,   0,   0,   0,   0,   0,   0,   0,   0,   0,   0,   0,   0,\n",
              "         19, 221, 254, 166,   0,   0,   0,   0,   0,   0,   0,   0,   0,\n",
              "          0,   0],\n",
              "       [  0,   0,   0,   0,   0,   0,   0,   0,   0,   0,   0,   0,   3,\n",
              "        203, 254, 219,  35,   0,   0,   0,   0,   0,   0,   0,   0,   0,\n",
              "          0,   0],\n",
              "       [  0,   0,   0,   0,   0,   0,   0,   0,   0,   0,   0,   0,  38,\n",
              "        254, 254,  77,   0,   0,   0,   0,   0,   0,   0,   0,   0,   0,\n",
              "          0,   0],\n",
              "       [  0,   0,   0,   0,   0,   0,   0,   0,   0,   0,   0,  31, 224,\n",
              "        254, 115,   1,   0,   0,   0,   0,   0,   0,   0,   0,   0,   0,\n",
              "          0,   0],\n",
              "       [  0,   0,   0,   0,   0,   0,   0,   0,   0,   0,   0, 133, 254,\n",
              "        254,  52,   0,   0,   0,   0,   0,   0,   0,   0,   0,   0,   0,\n",
              "          0,   0],\n",
              "       [  0,   0,   0,   0,   0,   0,   0,   0,   0,   0,  61, 242, 254,\n",
              "        254,  52,   0,   0,   0,   0,   0,   0,   0,   0,   0,   0,   0,\n",
              "          0,   0],\n",
              "       [  0,   0,   0,   0,   0,   0,   0,   0,   0,   0, 121, 254, 254,\n",
              "        219,  40,   0,   0,   0,   0,   0,   0,   0,   0,   0,   0,   0,\n",
              "          0,   0],\n",
              "       [  0,   0,   0,   0,   0,   0,   0,   0,   0,   0, 121, 254, 207,\n",
              "         18,   0,   0,   0,   0,   0,   0,   0,   0,   0,   0,   0,   0,\n",
              "          0,   0],\n",
              "       [  0,   0,   0,   0,   0,   0,   0,   0,   0,   0,   0,   0,   0,\n",
              "          0,   0,   0,   0,   0,   0,   0,   0,   0,   0,   0,   0,   0,\n",
              "          0,   0]], dtype=uint8)"
            ]
          },
          "metadata": {},
          "execution_count": 7
        }
      ]
    },
    {
      "cell_type": "code",
      "source": [
        "x_train=x_train.reshape(60000,784).astype('float32')\n",
        "x_valid=x_valid.reshape(10000,784).astype('float32')"
      ],
      "metadata": {
        "id": "-JDI2qodq4-B"
      },
      "execution_count": null,
      "outputs": []
    },
    {
      "cell_type": "code",
      "source": [
        "x_train/=255\n",
        "x_valid/=255"
      ],
      "metadata": {
        "id": "iXVWCkaEsmmS"
      },
      "execution_count": null,
      "outputs": []
    },
    {
      "cell_type": "code",
      "source": [
        "x_valid[0]"
      ],
      "metadata": {
        "colab": {
          "base_uri": "https://localhost:8080/"
        },
        "id": "olzCnHF6sy7R",
        "outputId": "c35489bf-f933-4d44-b0eb-904099d2d87e"
      },
      "execution_count": null,
      "outputs": [
        {
          "output_type": "execute_result",
          "data": {
            "text/plain": [
              "array([0.        , 0.        , 0.        , 0.        , 0.        ,\n",
              "       0.        , 0.        , 0.        , 0.        , 0.        ,\n",
              "       0.        , 0.        , 0.        , 0.        , 0.        ,\n",
              "       0.        , 0.        , 0.        , 0.        , 0.        ,\n",
              "       0.        , 0.        , 0.        , 0.        , 0.        ,\n",
              "       0.        , 0.        , 0.        , 0.        , 0.        ,\n",
              "       0.        , 0.        , 0.        , 0.        , 0.        ,\n",
              "       0.        , 0.        , 0.        , 0.        , 0.        ,\n",
              "       0.        , 0.        , 0.        , 0.        , 0.        ,\n",
              "       0.        , 0.        , 0.        , 0.        , 0.        ,\n",
              "       0.        , 0.        , 0.        , 0.        , 0.        ,\n",
              "       0.        , 0.        , 0.        , 0.        , 0.        ,\n",
              "       0.        , 0.        , 0.        , 0.        , 0.        ,\n",
              "       0.        , 0.        , 0.        , 0.        , 0.        ,\n",
              "       0.        , 0.        , 0.        , 0.        , 0.        ,\n",
              "       0.        , 0.        , 0.        , 0.        , 0.        ,\n",
              "       0.        , 0.        , 0.        , 0.        , 0.        ,\n",
              "       0.        , 0.        , 0.        , 0.        , 0.        ,\n",
              "       0.        , 0.        , 0.        , 0.        , 0.        ,\n",
              "       0.        , 0.        , 0.        , 0.        , 0.        ,\n",
              "       0.        , 0.        , 0.        , 0.        , 0.        ,\n",
              "       0.        , 0.        , 0.        , 0.        , 0.        ,\n",
              "       0.        , 0.        , 0.        , 0.        , 0.        ,\n",
              "       0.        , 0.        , 0.        , 0.        , 0.        ,\n",
              "       0.        , 0.        , 0.        , 0.        , 0.        ,\n",
              "       0.        , 0.        , 0.        , 0.        , 0.        ,\n",
              "       0.        , 0.        , 0.        , 0.        , 0.        ,\n",
              "       0.        , 0.        , 0.        , 0.        , 0.        ,\n",
              "       0.        , 0.        , 0.        , 0.        , 0.        ,\n",
              "       0.        , 0.        , 0.        , 0.        , 0.        ,\n",
              "       0.        , 0.        , 0.        , 0.        , 0.        ,\n",
              "       0.        , 0.        , 0.        , 0.        , 0.        ,\n",
              "       0.        , 0.        , 0.        , 0.        , 0.        ,\n",
              "       0.        , 0.        , 0.        , 0.        , 0.        ,\n",
              "       0.        , 0.        , 0.        , 0.        , 0.        ,\n",
              "       0.        , 0.        , 0.        , 0.        , 0.        ,\n",
              "       0.        , 0.        , 0.        , 0.        , 0.        ,\n",
              "       0.        , 0.        , 0.        , 0.        , 0.        ,\n",
              "       0.        , 0.        , 0.        , 0.        , 0.        ,\n",
              "       0.        , 0.        , 0.        , 0.        , 0.        ,\n",
              "       0.        , 0.        , 0.32941177, 0.7254902 , 0.62352943,\n",
              "       0.5921569 , 0.23529412, 0.14117648, 0.        , 0.        ,\n",
              "       0.        , 0.        , 0.        , 0.        , 0.        ,\n",
              "       0.        , 0.        , 0.        , 0.        , 0.        ,\n",
              "       0.        , 0.        , 0.        , 0.        , 0.        ,\n",
              "       0.        , 0.        , 0.        , 0.        , 0.        ,\n",
              "       0.87058824, 0.99607843, 0.99607843, 0.99607843, 0.99607843,\n",
              "       0.94509804, 0.7764706 , 0.7764706 , 0.7764706 , 0.7764706 ,\n",
              "       0.7764706 , 0.7764706 , 0.7764706 , 0.7764706 , 0.6666667 ,\n",
              "       0.20392157, 0.        , 0.        , 0.        , 0.        ,\n",
              "       0.        , 0.        , 0.        , 0.        , 0.        ,\n",
              "       0.        , 0.        , 0.        , 0.2627451 , 0.44705883,\n",
              "       0.28235295, 0.44705883, 0.6392157 , 0.8901961 , 0.99607843,\n",
              "       0.88235295, 0.99607843, 0.99607843, 0.99607843, 0.98039216,\n",
              "       0.8980392 , 0.99607843, 0.99607843, 0.54901963, 0.        ,\n",
              "       0.        , 0.        , 0.        , 0.        , 0.        ,\n",
              "       0.        , 0.        , 0.        , 0.        , 0.        ,\n",
              "       0.        , 0.        , 0.        , 0.        , 0.        ,\n",
              "       0.        , 0.06666667, 0.25882354, 0.05490196, 0.2627451 ,\n",
              "       0.2627451 , 0.2627451 , 0.23137255, 0.08235294, 0.9254902 ,\n",
              "       0.99607843, 0.41568628, 0.        , 0.        , 0.        ,\n",
              "       0.        , 0.        , 0.        , 0.        , 0.        ,\n",
              "       0.        , 0.        , 0.        , 0.        , 0.        ,\n",
              "       0.        , 0.        , 0.        , 0.        , 0.        ,\n",
              "       0.        , 0.        , 0.        , 0.        , 0.        ,\n",
              "       0.        , 0.3254902 , 0.99215686, 0.81960785, 0.07058824,\n",
              "       0.        , 0.        , 0.        , 0.        , 0.        ,\n",
              "       0.        , 0.        , 0.        , 0.        , 0.        ,\n",
              "       0.        , 0.        , 0.        , 0.        , 0.        ,\n",
              "       0.        , 0.        , 0.        , 0.        , 0.        ,\n",
              "       0.        , 0.        , 0.        , 0.08627451, 0.9137255 ,\n",
              "       1.        , 0.3254902 , 0.        , 0.        , 0.        ,\n",
              "       0.        , 0.        , 0.        , 0.        , 0.        ,\n",
              "       0.        , 0.        , 0.        , 0.        , 0.        ,\n",
              "       0.        , 0.        , 0.        , 0.        , 0.        ,\n",
              "       0.        , 0.        , 0.        , 0.        , 0.        ,\n",
              "       0.        , 0.5058824 , 0.99607843, 0.93333334, 0.17254902,\n",
              "       0.        , 0.        , 0.        , 0.        , 0.        ,\n",
              "       0.        , 0.        , 0.        , 0.        , 0.        ,\n",
              "       0.        , 0.        , 0.        , 0.        , 0.        ,\n",
              "       0.        , 0.        , 0.        , 0.        , 0.        ,\n",
              "       0.        , 0.        , 0.        , 0.23137255, 0.9764706 ,\n",
              "       0.99607843, 0.24313726, 0.        , 0.        , 0.        ,\n",
              "       0.        , 0.        , 0.        , 0.        , 0.        ,\n",
              "       0.        , 0.        , 0.        , 0.        , 0.        ,\n",
              "       0.        , 0.        , 0.        , 0.        , 0.        ,\n",
              "       0.        , 0.        , 0.        , 0.        , 0.        ,\n",
              "       0.        , 0.52156866, 0.99607843, 0.73333335, 0.01960784,\n",
              "       0.        , 0.        , 0.        , 0.        , 0.        ,\n",
              "       0.        , 0.        , 0.        , 0.        , 0.        ,\n",
              "       0.        , 0.        , 0.        , 0.        , 0.        ,\n",
              "       0.        , 0.        , 0.        , 0.        , 0.        ,\n",
              "       0.        , 0.        , 0.        , 0.03529412, 0.8039216 ,\n",
              "       0.972549  , 0.22745098, 0.        , 0.        , 0.        ,\n",
              "       0.        , 0.        , 0.        , 0.        , 0.        ,\n",
              "       0.        , 0.        , 0.        , 0.        , 0.        ,\n",
              "       0.        , 0.        , 0.        , 0.        , 0.        ,\n",
              "       0.        , 0.        , 0.        , 0.        , 0.        ,\n",
              "       0.        , 0.49411765, 0.99607843, 0.7137255 , 0.        ,\n",
              "       0.        , 0.        , 0.        , 0.        , 0.        ,\n",
              "       0.        , 0.        , 0.        , 0.        , 0.        ,\n",
              "       0.        , 0.        , 0.        , 0.        , 0.        ,\n",
              "       0.        , 0.        , 0.        , 0.        , 0.        ,\n",
              "       0.        , 0.        , 0.        , 0.29411766, 0.9843137 ,\n",
              "       0.9411765 , 0.22352941, 0.        , 0.        , 0.        ,\n",
              "       0.        , 0.        , 0.        , 0.        , 0.        ,\n",
              "       0.        , 0.        , 0.        , 0.        , 0.        ,\n",
              "       0.        , 0.        , 0.        , 0.        , 0.        ,\n",
              "       0.        , 0.        , 0.        , 0.        , 0.        ,\n",
              "       0.07450981, 0.8666667 , 0.99607843, 0.6509804 , 0.        ,\n",
              "       0.        , 0.        , 0.        , 0.        , 0.        ,\n",
              "       0.        , 0.        , 0.        , 0.        , 0.        ,\n",
              "       0.        , 0.        , 0.        , 0.        , 0.        ,\n",
              "       0.        , 0.        , 0.        , 0.        , 0.        ,\n",
              "       0.        , 0.        , 0.01176471, 0.79607844, 0.99607843,\n",
              "       0.85882354, 0.13725491, 0.        , 0.        , 0.        ,\n",
              "       0.        , 0.        , 0.        , 0.        , 0.        ,\n",
              "       0.        , 0.        , 0.        , 0.        , 0.        ,\n",
              "       0.        , 0.        , 0.        , 0.        , 0.        ,\n",
              "       0.        , 0.        , 0.        , 0.        , 0.        ,\n",
              "       0.14901961, 0.99607843, 0.99607843, 0.3019608 , 0.        ,\n",
              "       0.        , 0.        , 0.        , 0.        , 0.        ,\n",
              "       0.        , 0.        , 0.        , 0.        , 0.        ,\n",
              "       0.        , 0.        , 0.        , 0.        , 0.        ,\n",
              "       0.        , 0.        , 0.        , 0.        , 0.        ,\n",
              "       0.        , 0.        , 0.12156863, 0.8784314 , 0.99607843,\n",
              "       0.4509804 , 0.00392157, 0.        , 0.        , 0.        ,\n",
              "       0.        , 0.        , 0.        , 0.        , 0.        ,\n",
              "       0.        , 0.        , 0.        , 0.        , 0.        ,\n",
              "       0.        , 0.        , 0.        , 0.        , 0.        ,\n",
              "       0.        , 0.        , 0.        , 0.        , 0.        ,\n",
              "       0.52156866, 0.99607843, 0.99607843, 0.20392157, 0.        ,\n",
              "       0.        , 0.        , 0.        , 0.        , 0.        ,\n",
              "       0.        , 0.        , 0.        , 0.        , 0.        ,\n",
              "       0.        , 0.        , 0.        , 0.        , 0.        ,\n",
              "       0.        , 0.        , 0.        , 0.        , 0.        ,\n",
              "       0.        , 0.        , 0.23921569, 0.9490196 , 0.99607843,\n",
              "       0.99607843, 0.20392157, 0.        , 0.        , 0.        ,\n",
              "       0.        , 0.        , 0.        , 0.        , 0.        ,\n",
              "       0.        , 0.        , 0.        , 0.        , 0.        ,\n",
              "       0.        , 0.        , 0.        , 0.        , 0.        ,\n",
              "       0.        , 0.        , 0.        , 0.        , 0.        ,\n",
              "       0.4745098 , 0.99607843, 0.99607843, 0.85882354, 0.15686275,\n",
              "       0.        , 0.        , 0.        , 0.        , 0.        ,\n",
              "       0.        , 0.        , 0.        , 0.        , 0.        ,\n",
              "       0.        , 0.        , 0.        , 0.        , 0.        ,\n",
              "       0.        , 0.        , 0.        , 0.        , 0.        ,\n",
              "       0.        , 0.        , 0.        , 0.4745098 , 0.99607843,\n",
              "       0.8117647 , 0.07058824, 0.        , 0.        , 0.        ,\n",
              "       0.        , 0.        , 0.        , 0.        , 0.        ,\n",
              "       0.        , 0.        , 0.        , 0.        , 0.        ,\n",
              "       0.        , 0.        , 0.        , 0.        , 0.        ,\n",
              "       0.        , 0.        , 0.        , 0.        , 0.        ,\n",
              "       0.        , 0.        , 0.        , 0.        , 0.        ,\n",
              "       0.        , 0.        , 0.        , 0.        , 0.        ,\n",
              "       0.        , 0.        , 0.        , 0.        , 0.        ,\n",
              "       0.        , 0.        , 0.        , 0.        ], dtype=float32)"
            ]
          },
          "metadata": {},
          "execution_count": 10
        }
      ]
    },
    {
      "cell_type": "code",
      "source": [
        "from keras import utils as np_utils\n",
        "n_classes=10\n",
        "y_train=keras.utils.np_utils.to_categorical(y_train,n_classes)\n",
        "y_valid=keras.utils.np_utils.to_categorical(y_valid,n_classes)\n",
        "y_valid[0]"
      ],
      "metadata": {
        "colab": {
          "base_uri": "https://localhost:8080/"
        },
        "id": "BY-eoo76u2QQ",
        "outputId": "3a4ee7f4-d40e-486d-934d-f98541146745"
      },
      "execution_count": null,
      "outputs": [
        {
          "output_type": "execute_result",
          "data": {
            "text/plain": [
              "array([0., 0., 0., 0., 0., 0., 0., 1., 0., 0.], dtype=float32)"
            ]
          },
          "metadata": {},
          "execution_count": 11
        }
      ]
    },
    {
      "cell_type": "code",
      "source": [
        "model=Sequential()"
      ],
      "metadata": {
        "id": "8w6o79fsv1zM"
      },
      "execution_count": null,
      "outputs": []
    },
    {
      "cell_type": "code",
      "source": [
        "model.add(Dense(64,activation='sigmoid',input_shape=(784,)))"
      ],
      "metadata": {
        "id": "1aJMTice4duw"
      },
      "execution_count": null,
      "outputs": []
    },
    {
      "cell_type": "code",
      "source": [
        "model.add(Dense(10,activation='softmax'))\n",
        "model.summary()"
      ],
      "metadata": {
        "colab": {
          "base_uri": "https://localhost:8080/"
        },
        "id": "eH4nPp-T4vwf",
        "outputId": "2e09f94e-ce6e-4af9-d42f-3334b42365bb"
      },
      "execution_count": null,
      "outputs": [
        {
          "output_type": "stream",
          "name": "stdout",
          "text": [
            "Model: \"sequential\"\n",
            "_________________________________________________________________\n",
            " Layer (type)                Output Shape              Param #   \n",
            "=================================================================\n",
            " dense (Dense)               (None, 64)                50240     \n",
            "                                                                 \n",
            " dense_1 (Dense)             (None, 10)                650       \n",
            "                                                                 \n",
            "=================================================================\n",
            "Total params: 50,890\n",
            "Trainable params: 50,890\n",
            "Non-trainable params: 0\n",
            "_________________________________________________________________\n"
          ]
        }
      ]
    },
    {
      "cell_type": "code",
      "source": [
        "(64*784)"
      ],
      "metadata": {
        "colab": {
          "base_uri": "https://localhost:8080/"
        },
        "id": "GqE8KyRg5O6n",
        "outputId": "0a6751f1-596f-44ea-d6d6-17bf97294682"
      },
      "execution_count": null,
      "outputs": [
        {
          "output_type": "execute_result",
          "data": {
            "text/plain": [
              "50176"
            ]
          },
          "metadata": {},
          "execution_count": 15
        }
      ]
    },
    {
      "cell_type": "code",
      "source": [
        "(64*784)*18"
      ],
      "metadata": {
        "colab": {
          "base_uri": "https://localhost:8080/"
        },
        "id": "uJfV02266kOa",
        "outputId": "bca05647-fa71-487d-d0ec-2215f644262d"
      },
      "execution_count": null,
      "outputs": [
        {
          "output_type": "execute_result",
          "data": {
            "text/plain": [
              "903168"
            ]
          },
          "metadata": {},
          "execution_count": 46
        }
      ]
    },
    {
      "cell_type": "code",
      "source": [
        "(64*784)+64"
      ],
      "metadata": {
        "colab": {
          "base_uri": "https://localhost:8080/"
        },
        "id": "qjK8Ak6e6oEi",
        "outputId": "a9e33e17-fe2b-477f-eea3-acd213bbe350"
      },
      "execution_count": null,
      "outputs": [
        {
          "output_type": "execute_result",
          "data": {
            "text/plain": [
              "50240"
            ]
          },
          "metadata": {},
          "execution_count": 16
        }
      ]
    },
    {
      "cell_type": "code",
      "source": [
        "(1064)+10+(64784)+64"
      ],
      "metadata": {
        "colab": {
          "base_uri": "https://localhost:8080/"
        },
        "id": "m_OKhd7m6ury",
        "outputId": "3b12748b-3070-4ff2-d67c-b6e4e816ff91"
      },
      "execution_count": null,
      "outputs": [
        {
          "output_type": "execute_result",
          "data": {
            "text/plain": [
              "65922"
            ]
          },
          "metadata": {},
          "execution_count": 17
        }
      ]
    },
    {
      "cell_type": "code",
      "source": [
        "model.compile(loss='mean_squared_error',optimizer=SGD(learning_rate=0.01),metrics=['accuracy'])"
      ],
      "metadata": {
        "id": "Kb_iGZd-78jH"
      },
      "execution_count": null,
      "outputs": []
    },
    {
      "cell_type": "code",
      "source": [
        "history=model.fit(x_train,y_train,batch_size=128,epochs=90,verbose=1)"
      ],
      "metadata": {
        "colab": {
          "base_uri": "https://localhost:8080/"
        },
        "id": "I1H1StX361vu",
        "outputId": "8d292050-3cf2-4984-a714-7046bad61479"
      },
      "execution_count": null,
      "outputs": [
        {
          "output_type": "stream",
          "name": "stdout",
          "text": [
            "Epoch 1/90\n",
            "469/469 [==============================] - 2s 2ms/step - loss: 0.0970 - accuracy: 0.0908\n",
            "Epoch 2/90\n",
            "469/469 [==============================] - 1s 2ms/step - loss: 0.0933 - accuracy: 0.0953\n",
            "Epoch 3/90\n",
            "469/469 [==============================] - 1s 2ms/step - loss: 0.0919 - accuracy: 0.1121\n",
            "Epoch 4/90\n",
            "469/469 [==============================] - 1s 2ms/step - loss: 0.0911 - accuracy: 0.1300\n",
            "Epoch 5/90\n",
            "469/469 [==============================] - 1s 2ms/step - loss: 0.0906 - accuracy: 0.1635\n",
            "Epoch 6/90\n",
            "469/469 [==============================] - 1s 2ms/step - loss: 0.0901 - accuracy: 0.2109\n",
            "Epoch 7/90\n",
            "469/469 [==============================] - 1s 2ms/step - loss: 0.0897 - accuracy: 0.2431\n",
            "Epoch 8/90\n",
            "469/469 [==============================] - 1s 2ms/step - loss: 0.0893 - accuracy: 0.2652\n",
            "Epoch 9/90\n",
            "469/469 [==============================] - 1s 2ms/step - loss: 0.0889 - accuracy: 0.2870\n",
            "Epoch 10/90\n",
            "469/469 [==============================] - 1s 2ms/step - loss: 0.0885 - accuracy: 0.3087\n",
            "Epoch 11/90\n",
            "469/469 [==============================] - 1s 2ms/step - loss: 0.0882 - accuracy: 0.3256\n",
            "Epoch 12/90\n",
            "469/469 [==============================] - 1s 2ms/step - loss: 0.0879 - accuracy: 0.3403\n",
            "Epoch 13/90\n",
            "469/469 [==============================] - 1s 2ms/step - loss: 0.0875 - accuracy: 0.3545\n",
            "Epoch 14/90\n",
            "469/469 [==============================] - 1s 2ms/step - loss: 0.0872 - accuracy: 0.3643\n",
            "Epoch 15/90\n",
            "469/469 [==============================] - 1s 2ms/step - loss: 0.0869 - accuracy: 0.3742\n",
            "Epoch 16/90\n",
            "469/469 [==============================] - 1s 2ms/step - loss: 0.0866 - accuracy: 0.3796\n",
            "Epoch 17/90\n",
            "469/469 [==============================] - 1s 2ms/step - loss: 0.0863 - accuracy: 0.3857\n",
            "Epoch 18/90\n",
            "469/469 [==============================] - 1s 2ms/step - loss: 0.0860 - accuracy: 0.3902\n",
            "Epoch 19/90\n",
            "469/469 [==============================] - 1s 2ms/step - loss: 0.0857 - accuracy: 0.3947\n",
            "Epoch 20/90\n",
            "469/469 [==============================] - 1s 2ms/step - loss: 0.0853 - accuracy: 0.3987\n",
            "Epoch 21/90\n",
            "469/469 [==============================] - 1s 2ms/step - loss: 0.0850 - accuracy: 0.4025\n",
            "Epoch 22/90\n",
            "469/469 [==============================] - 1s 2ms/step - loss: 0.0847 - accuracy: 0.4059\n",
            "Epoch 23/90\n",
            "469/469 [==============================] - 1s 2ms/step - loss: 0.0843 - accuracy: 0.4092\n",
            "Epoch 24/90\n",
            "469/469 [==============================] - 1s 2ms/step - loss: 0.0840 - accuracy: 0.4139\n",
            "Epoch 25/90\n",
            "469/469 [==============================] - 1s 2ms/step - loss: 0.0836 - accuracy: 0.4165\n",
            "Epoch 26/90\n",
            "469/469 [==============================] - 1s 2ms/step - loss: 0.0833 - accuracy: 0.4195\n",
            "Epoch 27/90\n",
            "469/469 [==============================] - 1s 2ms/step - loss: 0.0829 - accuracy: 0.4226\n",
            "Epoch 28/90\n",
            "469/469 [==============================] - 1s 2ms/step - loss: 0.0825 - accuracy: 0.4265\n",
            "Epoch 29/90\n",
            "469/469 [==============================] - 1s 2ms/step - loss: 0.0821 - accuracy: 0.4311\n",
            "Epoch 30/90\n",
            "469/469 [==============================] - 1s 2ms/step - loss: 0.0817 - accuracy: 0.4345\n",
            "Epoch 31/90\n",
            "469/469 [==============================] - 1s 2ms/step - loss: 0.0813 - accuracy: 0.4377\n",
            "Epoch 32/90\n",
            "469/469 [==============================] - 1s 2ms/step - loss: 0.0809 - accuracy: 0.4435\n",
            "Epoch 33/90\n",
            "469/469 [==============================] - 1s 2ms/step - loss: 0.0805 - accuracy: 0.4460\n",
            "Epoch 34/90\n",
            "469/469 [==============================] - 1s 2ms/step - loss: 0.0801 - accuracy: 0.4498\n",
            "Epoch 35/90\n",
            "469/469 [==============================] - 1s 2ms/step - loss: 0.0796 - accuracy: 0.4557\n",
            "Epoch 36/90\n",
            "469/469 [==============================] - 1s 2ms/step - loss: 0.0792 - accuracy: 0.4604\n",
            "Epoch 37/90\n",
            "469/469 [==============================] - 1s 2ms/step - loss: 0.0787 - accuracy: 0.4658\n",
            "Epoch 38/90\n",
            "469/469 [==============================] - 1s 2ms/step - loss: 0.0783 - accuracy: 0.4706\n",
            "Epoch 39/90\n",
            "469/469 [==============================] - 1s 2ms/step - loss: 0.0778 - accuracy: 0.4760\n",
            "Epoch 40/90\n",
            "469/469 [==============================] - 1s 2ms/step - loss: 0.0773 - accuracy: 0.4832\n",
            "Epoch 41/90\n",
            "469/469 [==============================] - 1s 2ms/step - loss: 0.0769 - accuracy: 0.4874\n",
            "Epoch 42/90\n",
            "469/469 [==============================] - 1s 2ms/step - loss: 0.0764 - accuracy: 0.4947\n",
            "Epoch 43/90\n",
            "469/469 [==============================] - 1s 2ms/step - loss: 0.0759 - accuracy: 0.5007\n",
            "Epoch 44/90\n",
            "469/469 [==============================] - 1s 2ms/step - loss: 0.0754 - accuracy: 0.5060\n",
            "Epoch 45/90\n",
            "469/469 [==============================] - 1s 2ms/step - loss: 0.0749 - accuracy: 0.5136\n",
            "Epoch 46/90\n",
            "469/469 [==============================] - 1s 2ms/step - loss: 0.0744 - accuracy: 0.5205\n",
            "Epoch 47/90\n",
            "469/469 [==============================] - 1s 2ms/step - loss: 0.0739 - accuracy: 0.5264\n",
            "Epoch 48/90\n",
            "469/469 [==============================] - 1s 2ms/step - loss: 0.0734 - accuracy: 0.5337\n",
            "Epoch 49/90\n",
            "469/469 [==============================] - 1s 2ms/step - loss: 0.0729 - accuracy: 0.5398\n",
            "Epoch 50/90\n",
            "469/469 [==============================] - 1s 2ms/step - loss: 0.0724 - accuracy: 0.5463\n",
            "Epoch 51/90\n",
            "469/469 [==============================] - 1s 2ms/step - loss: 0.0719 - accuracy: 0.5533\n",
            "Epoch 52/90\n",
            "469/469 [==============================] - 1s 2ms/step - loss: 0.0714 - accuracy: 0.5603\n",
            "Epoch 53/90\n",
            "469/469 [==============================] - 1s 2ms/step - loss: 0.0709 - accuracy: 0.5665\n",
            "Epoch 54/90\n",
            "469/469 [==============================] - 1s 2ms/step - loss: 0.0704 - accuracy: 0.5733\n",
            "Epoch 55/90\n",
            "469/469 [==============================] - 1s 2ms/step - loss: 0.0700 - accuracy: 0.5795\n",
            "Epoch 56/90\n",
            "469/469 [==============================] - 1s 2ms/step - loss: 0.0695 - accuracy: 0.5856\n",
            "Epoch 57/90\n",
            "469/469 [==============================] - 1s 2ms/step - loss: 0.0690 - accuracy: 0.5907\n",
            "Epoch 58/90\n",
            "469/469 [==============================] - 1s 2ms/step - loss: 0.0685 - accuracy: 0.5966\n",
            "Epoch 59/90\n",
            "469/469 [==============================] - 1s 2ms/step - loss: 0.0680 - accuracy: 0.6014\n",
            "Epoch 60/90\n",
            "469/469 [==============================] - 1s 2ms/step - loss: 0.0675 - accuracy: 0.6071\n",
            "Epoch 61/90\n",
            "469/469 [==============================] - 1s 2ms/step - loss: 0.0670 - accuracy: 0.6117\n",
            "Epoch 62/90\n",
            "469/469 [==============================] - 1s 2ms/step - loss: 0.0665 - accuracy: 0.6166\n",
            "Epoch 63/90\n",
            "469/469 [==============================] - 1s 2ms/step - loss: 0.0660 - accuracy: 0.6216\n",
            "Epoch 64/90\n",
            "469/469 [==============================] - 1s 2ms/step - loss: 0.0655 - accuracy: 0.6265\n",
            "Epoch 65/90\n",
            "469/469 [==============================] - 1s 2ms/step - loss: 0.0651 - accuracy: 0.6303\n",
            "Epoch 66/90\n",
            "469/469 [==============================] - 1s 2ms/step - loss: 0.0646 - accuracy: 0.6349\n",
            "Epoch 67/90\n",
            "469/469 [==============================] - 1s 2ms/step - loss: 0.0641 - accuracy: 0.6378\n",
            "Epoch 68/90\n",
            "469/469 [==============================] - 1s 2ms/step - loss: 0.0636 - accuracy: 0.6413\n",
            "Epoch 69/90\n",
            "469/469 [==============================] - 1s 2ms/step - loss: 0.0632 - accuracy: 0.6445\n",
            "Epoch 70/90\n",
            "469/469 [==============================] - 1s 2ms/step - loss: 0.0627 - accuracy: 0.6474\n",
            "Epoch 71/90\n",
            "469/469 [==============================] - 1s 2ms/step - loss: 0.0622 - accuracy: 0.6506\n",
            "Epoch 72/90\n",
            "469/469 [==============================] - 1s 2ms/step - loss: 0.0617 - accuracy: 0.6539\n",
            "Epoch 73/90\n",
            "469/469 [==============================] - 1s 2ms/step - loss: 0.0613 - accuracy: 0.6572\n",
            "Epoch 74/90\n",
            "469/469 [==============================] - 1s 2ms/step - loss: 0.0608 - accuracy: 0.6595\n",
            "Epoch 75/90\n",
            "469/469 [==============================] - 1s 2ms/step - loss: 0.0604 - accuracy: 0.6620\n",
            "Epoch 76/90\n",
            "469/469 [==============================] - 1s 2ms/step - loss: 0.0599 - accuracy: 0.6644\n",
            "Epoch 77/90\n",
            "469/469 [==============================] - 1s 2ms/step - loss: 0.0595 - accuracy: 0.6664\n",
            "Epoch 78/90\n",
            "469/469 [==============================] - 1s 2ms/step - loss: 0.0590 - accuracy: 0.6687\n",
            "Epoch 79/90\n",
            "469/469 [==============================] - 1s 2ms/step - loss: 0.0586 - accuracy: 0.6711\n",
            "Epoch 80/90\n",
            "469/469 [==============================] - 1s 2ms/step - loss: 0.0581 - accuracy: 0.6732\n",
            "Epoch 81/90\n",
            "469/469 [==============================] - 1s 2ms/step - loss: 0.0577 - accuracy: 0.6751\n",
            "Epoch 82/90\n",
            "469/469 [==============================] - 1s 2ms/step - loss: 0.0573 - accuracy: 0.6765\n",
            "Epoch 83/90\n",
            "469/469 [==============================] - 1s 2ms/step - loss: 0.0568 - accuracy: 0.6782\n",
            "Epoch 84/90\n",
            "469/469 [==============================] - 1s 2ms/step - loss: 0.0564 - accuracy: 0.6801\n",
            "Epoch 85/90\n",
            "469/469 [==============================] - 1s 2ms/step - loss: 0.0560 - accuracy: 0.6819\n",
            "Epoch 86/90\n",
            "469/469 [==============================] - 1s 2ms/step - loss: 0.0556 - accuracy: 0.6832\n",
            "Epoch 87/90\n",
            "469/469 [==============================] - 1s 2ms/step - loss: 0.0552 - accuracy: 0.6846\n",
            "Epoch 88/90\n",
            "469/469 [==============================] - 1s 2ms/step - loss: 0.0548 - accuracy: 0.6862\n",
            "Epoch 89/90\n",
            "469/469 [==============================] - 1s 2ms/step - loss: 0.0544 - accuracy: 0.6876\n",
            "Epoch 90/90\n",
            "469/469 [==============================] - 1s 2ms/step - loss: 0.0540 - accuracy: 0.6888\n"
          ]
        }
      ]
    },
    {
      "cell_type": "code",
      "source": [
        "plt.plot(history.history['accuracy'])\n",
        "plt.title('model accuracy')\n",
        "plt.ylabel('accuracy')\n",
        "plt.xlabel('epoch')\n",
        "plt.show()"
      ],
      "metadata": {
        "id": "ohRl8e4d7aWP",
        "colab": {
          "base_uri": "https://localhost:8080/",
          "height": 295
        },
        "outputId": "9c7463d5-9bdc-4c99-d936-f10b7666ba75"
      },
      "execution_count": null,
      "outputs": [
        {
          "output_type": "display_data",
          "data": {
            "image/png": "[encoded data removed]",
            "text/plain": [
              "<Figure size 432x288 with 1 Axes>"
            ]
          },
          "metadata": {
            "needs_background": "light"
          }
        }
      ]
    },
    {
      "cell_type": "code",
      "source": [
        "plt.plot(history.history['loss'])\n",
        "plt.title('model loss')\n",
        "plt.ylabel('loss')\n",
        "plt.xlabel('epoch')\n",
        "plt.show()"
      ],
      "metadata": {
        "colab": {
          "base_uri": "https://localhost:8080/",
          "height": 295
        },
        "id": "h7THYV_Bu1Em",
        "outputId": "faa35c18-7fed-4fbf-e4f3-59107ba182e6"
      },
      "execution_count": null,
      "outputs": [
        {
          "output_type": "display_data",
          "data": {
            "image/png": "[encoded data removed]",
            "text/plain": [
              "<Figure size 432x288 with 1 Axes>"
            ]
          },
          "metadata": {
            "needs_background": "light"
          }
        }
      ]
    },
    {
      "cell_type": "code",
      "source": [
        ""
      ],
      "metadata": {
        "id": "MSV5h3NPu3Ee"
      },
      "execution_count": null,
      "outputs": []
    }
  ]
}