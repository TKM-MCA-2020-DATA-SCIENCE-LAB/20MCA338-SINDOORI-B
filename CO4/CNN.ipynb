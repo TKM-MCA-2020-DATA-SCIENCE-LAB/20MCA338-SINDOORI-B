{
  "nbformat": 4,
  "nbformat_minor": 0,
  "metadata": {
    "colab": {
      "name": "CNN.ipynb",
      "provenance": []
    },
    "kernelspec": {
      "name": "python3",
      "display_name": "Python 3"
    },
    "language_info": {
      "name": "python"
    }
  },
  "cells": [
    {
      "cell_type": "code",
      "execution_count": 1,
      "metadata": {
        "id": "v6LM8JfOdyyZ"
      },
      "outputs": [],
      "source": [
        "import tensorflow as tf\n",
        "from tensorflow.keras import datasets,layers,models\n",
        "import matplotlib.pyplot as plt\n",
        "import numpy as np\n",
        "from sklearn.metrics import classification_report"
      ]
    },
    {
      "cell_type": "code",
      "source": [
        "(x_train,y_train),(x_test,y_test)=datasets.cifar10.load_data()"
      ],
      "metadata": {
        "colab": {
          "base_uri": "https://localhost:8080/"
        },
        "id": "cqbf4aAxeG5M",
        "outputId": "875a985e-e025-44b8-d950-b10d9ce67bd3"
      },
      "execution_count": 2,
      "outputs": [
        {
          "output_type": "stream",
          "name": "stdout",
          "text": [
            "Downloading data from https://www.cs.toronto.edu/~kriz/cifar-10-python.tar.gz\n",
            "170500096/170498071 [==============================] - 3s 0us/step\n",
            "170508288/170498071 [==============================] - 3s 0us/step\n"
          ]
        }
      ]
    },
    {
      "cell_type": "code",
      "source": [
        "x_train.shape"
      ],
      "metadata": {
        "colab": {
          "base_uri": "https://localhost:8080/"
        },
        "id": "kAyqDpBoePaf",
        "outputId": "2175bcea-de9b-4855-ddfb-7d5b21dffb1d"
      },
      "execution_count": 3,
      "outputs": [
        {
          "output_type": "execute_result",
          "data": {
            "text/plain": [
              "(50000, 32, 32, 3)"
            ]
          },
          "metadata": {},
          "execution_count": 3
        }
      ]
    },
    {
      "cell_type": "code",
      "source": [
        "x_test.shape"
      ],
      "metadata": {
        "colab": {
          "base_uri": "https://localhost:8080/"
        },
        "id": "vNuHm4bXefAd",
        "outputId": "cd3b2580-7114-43ea-d7a5-bc88d6c03230"
      },
      "execution_count": 4,
      "outputs": [
        {
          "output_type": "execute_result",
          "data": {
            "text/plain": [
              "(10000, 32, 32, 3)"
            ]
          },
          "metadata": {},
          "execution_count": 4
        }
      ]
    },
    {
      "cell_type": "code",
      "source": [
        "classes=['airplane','automobile','bird','cat','deer','dog','frog','horse','ship','truck']"
      ],
      "metadata": {
        "id": "dkQ72iumej01"
      },
      "execution_count": 5,
      "outputs": []
    },
    {
      "cell_type": "code",
      "source": [
        "def plot_sample(x,y,index):\n",
        "  plt.figure(figsize=(14,2))\n",
        "  plt.imshow(x[index])\n",
        "  plt.xlabel(y[index])"
      ],
      "metadata": {
        "id": "J37OcxAweozy"
      },
      "execution_count": 6,
      "outputs": []
    },
    {
      "cell_type": "code",
      "source": [
        "plot_sample(x_train,y_train,1)"
      ],
      "metadata": {
        "colab": {
          "base_uri": "https://localhost:8080/",
          "height": 228
        },
        "id": "y9s_2BW9esfz",
        "outputId": "a9f59f06-6269-4ce7-e416-551042906ce3"
      },
      "execution_count": 7,
      "outputs": [
        {
          "output_type": "stream",
          "name": "stderr",
          "text": [
            "/usr/local/lib/python3.7/dist-packages/matplotlib/text.py:1165: FutureWarning: elementwise comparison failed; returning scalar instead, but in the future will perform elementwise comparison\n",
            "  if s != self._text:\n"
          ]
        },
        {
          "output_type": "display_data",
          "data": {
            "image/png": "[encoded data removed]",
            "text/plain": [
              "<Figure size 1008x144 with 1 Axes>"
            ]
          },
          "metadata": {
            "needs_background": "light"
          }
        }
      ]
    },
    {
      "cell_type": "code",
      "source": [
        "x_train=x_train/255\n",
        "x_test=x_test/255"
      ],
      "metadata": {
        "id": "QImruZq6ey7E"
      },
      "execution_count": 8,
      "outputs": []
    },
    {
      "cell_type": "code",
      "source": [
        "cnn=models.Sequential([\n",
        "                       #feature extraction\n",
        "                       layers.Conv2D(filters=32,activation='relu',kernel_size=(3,3),input_shape=(32,32,3)),\n",
        "                       layers.MaxPool2D((2,2)),\n",
        "                      \n",
        "                       layers.Conv2D(filters=32,activation='relu',kernel_size=(3,3),input_shape=(32,32,3)),\n",
        "                       layers.MaxPool2D((2,2)),\n",
        "\n",
        "                       #classification\n",
        "                       layers.Flatten(),\n",
        "                       layers.Dense(64,activation='relu'),\n",
        "                       layers.Dense(10,activation='softmax')\n",
        "                       \n",
        "\n",
        "])"
      ],
      "metadata": {
        "id": "afLq8rDZe6dL"
      },
      "execution_count": 9,
      "outputs": []
    },
    {
      "cell_type": "code",
      "source": [
        "cnn.compile(optimizer='adam',loss='sparse_categorical_crossentropy',metrics=['accuracy'])"
      ],
      "metadata": {
        "id": "eeNI_lq-fCkE"
      },
      "execution_count": 10,
      "outputs": []
    },
    {
      "cell_type": "code",
      "source": [
        "cnn.fit(x_train,y_train,epochs=20)"
      ],
      "metadata": {
        "colab": {
          "base_uri": "https://localhost:8080/"
        },
        "id": "2N_SJO32fHZP",
        "outputId": "7942069b-1a17-401a-e675-5141310dc627"
      },
      "execution_count": 11,
      "outputs": [
        {
          "output_type": "stream",
          "name": "stdout",
          "text": [
            "Epoch 1/20\n",
            "1563/1563 [==============================] - 64s 40ms/step - loss: 1.5037 - accuracy: 0.4589\n",
            "Epoch 2/20\n",
            "1563/1563 [==============================] - 54s 35ms/step - loss: 1.1770 - accuracy: 0.5872\n",
            "Epoch 3/20\n",
            "1563/1563 [==============================] - 53s 34ms/step - loss: 1.0510 - accuracy: 0.6334\n",
            "Epoch 4/20\n",
            "1563/1563 [==============================] - 53s 34ms/step - loss: 0.9764 - accuracy: 0.6607\n",
            "Epoch 5/20\n",
            "1563/1563 [==============================] - 52s 34ms/step - loss: 0.9127 - accuracy: 0.6813\n",
            "Epoch 6/20\n",
            "1563/1563 [==============================] - 53s 34ms/step - loss: 0.8721 - accuracy: 0.6975\n",
            "Epoch 7/20\n",
            "1563/1563 [==============================] - 52s 33ms/step - loss: 0.8302 - accuracy: 0.7116\n",
            "Epoch 8/20\n",
            "1563/1563 [==============================] - 53s 34ms/step - loss: 0.7937 - accuracy: 0.7233\n",
            "Epoch 9/20\n",
            "1563/1563 [==============================] - 61s 39ms/step - loss: 0.7595 - accuracy: 0.7355\n",
            "Epoch 10/20\n",
            "1563/1563 [==============================] - 54s 34ms/step - loss: 0.7337 - accuracy: 0.7430\n",
            "Epoch 11/20\n",
            "1563/1563 [==============================] - 53s 34ms/step - loss: 0.7069 - accuracy: 0.7520\n",
            "Epoch 12/20\n",
            "1563/1563 [==============================] - 53s 34ms/step - loss: 0.6802 - accuracy: 0.7621\n",
            "Epoch 13/20\n",
            "1563/1563 [==============================] - 52s 33ms/step - loss: 0.6577 - accuracy: 0.7678\n",
            "Epoch 14/20\n",
            "1563/1563 [==============================] - 52s 34ms/step - loss: 0.6382 - accuracy: 0.7770\n",
            "Epoch 15/20\n",
            "1563/1563 [==============================] - 53s 34ms/step - loss: 0.6166 - accuracy: 0.7841\n",
            "Epoch 16/20\n",
            "1563/1563 [==============================] - 53s 34ms/step - loss: 0.5947 - accuracy: 0.7902\n",
            "Epoch 17/20\n",
            "1563/1563 [==============================] - 53s 34ms/step - loss: 0.5762 - accuracy: 0.7967\n",
            "Epoch 18/20\n",
            "1563/1563 [==============================] - 53s 34ms/step - loss: 0.5545 - accuracy: 0.8041\n",
            "Epoch 19/20\n",
            "1563/1563 [==============================] - 52s 33ms/step - loss: 0.5343 - accuracy: 0.8110\n",
            "Epoch 20/20\n",
            "1563/1563 [==============================] - 52s 33ms/step - loss: 0.5235 - accuracy: 0.8159\n"
          ]
        },
        {
          "output_type": "execute_result",
          "data": {
            "text/plain": [
              "<keras.callbacks.History at 0x7f5be68e11d0>"
            ]
          },
          "metadata": {},
          "execution_count": 11
        }
      ]
    },
    {
      "cell_type": "code",
      "source": [
        "y_pred=cnn.predict(x_test)"
      ],
      "metadata": {
        "id": "r1UnBYqXfKl7"
      },
      "execution_count": 12,
      "outputs": []
    },
    {
      "cell_type": "code",
      "source": [
        "y_classes=[np.argmax(element) for element in y_pred]\n",
        "print('Classification report: \\n',classification_report(y_test,y_classes))"
      ],
      "metadata": {
        "colab": {
          "base_uri": "https://localhost:8080/"
        },
        "id": "eIZI1Lo0fQ7x",
        "outputId": "ba8c47f0-3c85-4aa6-83c7-bbc461997c43"
      },
      "execution_count": 13,
      "outputs": [
        {
          "output_type": "stream",
          "name": "stdout",
          "text": [
            "Classification report: \n",
            "               precision    recall  f1-score   support\n",
            "\n",
            "           0       0.64      0.79      0.71      1000\n",
            "           1       0.85      0.77      0.81      1000\n",
            "           2       0.63      0.53      0.57      1000\n",
            "           3       0.50      0.47      0.48      1000\n",
            "           4       0.65      0.63      0.64      1000\n",
            "           5       0.59      0.62      0.61      1000\n",
            "           6       0.71      0.78      0.75      1000\n",
            "           7       0.75      0.73      0.74      1000\n",
            "           8       0.79      0.78      0.78      1000\n",
            "           9       0.75      0.77      0.76      1000\n",
            "\n",
            "    accuracy                           0.69     10000\n",
            "   macro avg       0.69      0.69      0.69     10000\n",
            "weighted avg       0.69      0.69      0.69     10000\n",
            "\n"
          ]
        }
      ]
    },
    {
      "cell_type": "code",
      "source": [
        ""
      ],
      "metadata": {
        "id": "A8IrmscrhBma"
      },
      "execution_count": null,
      "outputs": []
    }
  ]
}