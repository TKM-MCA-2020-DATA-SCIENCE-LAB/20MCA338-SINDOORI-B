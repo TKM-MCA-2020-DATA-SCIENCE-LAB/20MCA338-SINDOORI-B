{
  "nbformat": 4,
  "nbformat_minor": 0,
  "metadata": {
    "colab": {
      "name": "SVD.ipynb",
      "provenance": [],
      "collapsed_sections": []
    },
    "kernelspec": {
      "name": "python3",
      "display_name": "Python 3"
    },
    "language_info": {
      "name": "python"
    }
  },
  "cells": [
    {
      "cell_type": "code",
      "execution_count": null,
      "metadata": {
        "id": "T6zOipV6DtGI"
      },
      "outputs": [],
      "source": [
        "import numpy as np\n",
        "from numpy.linalg import svd"
      ]
    },
    {
      "cell_type": "code",
      "source": [
        "A = np.array([[1,2,3], [4,5,6], [5,7,9]])\n",
        "U, S, VT = svd(A)"
      ],
      "metadata": {
        "id": "AiOZ-JUJEUEu"
      },
      "execution_count": null,
      "outputs": []
    },
    {
      "cell_type": "code",
      "source": [
        "U"
      ],
      "metadata": {
        "colab": {
          "base_uri": "https://localhost:8080/"
        },
        "id": "8_lHIjNJEYN9",
        "outputId": "4f760de9-00cb-437d-f187-46b4b8eff8dc"
      },
      "execution_count": null,
      "outputs": [
        {
          "output_type": "execute_result",
          "data": {
            "text/plain": [
              "array([[-0.2354116 ,  0.78182354, -0.57735027],\n",
              "       [-0.55937325, -0.5947842 , -0.57735027],\n",
              "       [-0.79478485,  0.18703934,  0.57735027]])"
            ]
          },
          "metadata": {},
          "execution_count": 4
        }
      ]
    },
    {
      "cell_type": "code",
      "source": [
        "S"
      ],
      "metadata": {
        "colab": {
          "base_uri": "https://localhost:8080/"
        },
        "id": "F2bPTRioEb09",
        "outputId": "a63116ae-43b0-400a-c7bc-f68ec8f180c4"
      },
      "execution_count": null,
      "outputs": [
        {
          "output_type": "execute_result",
          "data": {
            "text/plain": [
              "array([1.56633231e+01, 8.12593979e-01, 1.13716384e-15])"
            ]
          },
          "metadata": {},
          "execution_count": 5
        }
      ]
    },
    {
      "cell_type": "code",
      "source": [
        "VT"
      ],
      "metadata": {
        "colab": {
          "base_uri": "https://localhost:8080/"
        },
        "id": "GmKTlIJ1Eg9U",
        "outputId": "945eb934-e01f-4f3f-c49d-9b7bb31cc3eb"
      },
      "execution_count": null,
      "outputs": [
        {
          "output_type": "execute_result",
          "data": {
            "text/plain": [
              "array([[-0.41158755, -0.56381288, -0.71603821],\n",
              "       [-0.8148184 , -0.12429146,  0.56623547],\n",
              "       [-0.40824829,  0.81649658, -0.40824829]])"
            ]
          },
          "metadata": {},
          "execution_count": 6
        }
      ]
    },
    {
      "cell_type": "code",
      "source": [
        "a=(U @ np.diag(S) @ VT)"
      ],
      "metadata": {
        "id": "kcbE6WbuEiTA"
      },
      "execution_count": null,
      "outputs": []
    },
    {
      "cell_type": "code",
      "source": [
        "a"
      ],
      "metadata": {
        "colab": {
          "base_uri": "https://localhost:8080/"
        },
        "id": "RskfXOb0EsSl",
        "outputId": "66d8471d-f03f-4b12-e42e-cd46645aa9da"
      },
      "execution_count": null,
      "outputs": [
        {
          "output_type": "execute_result",
          "data": {
            "text/plain": [
              "array([[1., 2., 3.],\n",
              "       [4., 5., 6.],\n",
              "       [5., 7., 9.]])"
            ]
          },
          "metadata": {},
          "execution_count": 11
        }
      ]
    }
  ]
}